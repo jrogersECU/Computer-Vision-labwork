{
 "cells": [
  {
   "cell_type": "code",
   "execution_count": 1,
   "metadata": {},
   "outputs": [
    {
     "name": "stdout",
     "output_type": "stream",
     "text": [
      "Image saved to /Users/saddhat/Desktop/Comp_Vis/lab7/dog1_no_bg.png\n"
     ]
    }
   ],
   "source": [
    "from transformers import AutoModelForImageSegmentation\n",
    "from torchvision.transforms.functional import normalize\n",
    "import torch\n",
    "import torch.nn.functional as F\n",
    "import numpy as np\n",
    "from skimage import io\n",
    "from PIL import Image\n",
    "\n",
    "model = AutoModelForImageSegmentation.from_pretrained(\"briaai/RMBG-1.4\",trust_remote_code=True)\n",
    "model_input_size = [1024,1024]\n",
    "def preprocess_image(im: np.ndarray, model_input_size: list) -> torch.Tensor:\n",
    "    if len(im.shape) < 3:\n",
    "        im = im[:, :, np.newaxis]\n",
    "    # orig_im_size=im.shape[0:2]\n",
    "    im_tensor = torch.tensor(im, dtype=torch.float32).permute(2,0,1)\n",
    "    im_tensor = F.interpolate(torch.unsqueeze(im_tensor,0), size=model_input_size, mode='bilinear')\n",
    "    image = torch.divide(im_tensor,255.0)\n",
    "    image = normalize(image,[0.5,0.5,0.5],[1.0,1.0,1.0])\n",
    "    return image\n",
    "\n",
    "def postprocess_image(result: torch.Tensor, im_size: list)-> np.ndarray:\n",
    "    result = torch.squeeze(F.interpolate(result, size=im_size, mode='bilinear') ,0)\n",
    "    ma = torch.max(result)\n",
    "    mi = torch.min(result)\n",
    "    result = (result-mi)/(ma-mi)\n",
    "    im_array = (result*255).permute(1,2,0).cpu().data.numpy().astype(np.uint8)\n",
    "    im_array = np.squeeze(im_array)\n",
    "    return im_array\n",
    "\n",
    "device = torch.device(\"cuda:0\" if torch.cuda.is_available() else \"cpu\")\n",
    "model.to(device)\n",
    "\n",
    "# prepare input\n",
    "image_path = \"/Users/saddhat/Desktop/Comp_Vis/Lab7/dog1.jpg\"\n",
    "orig_im = io.imread(image_path)\n",
    "orig_im_size = orig_im.shape[0:2]\n",
    "image = preprocess_image(orig_im, model_input_size).to(device)\n",
    "\n",
    "# inference \n",
    "result=model(image)\n",
    "\n",
    "# post process\n",
    "result_image = postprocess_image(result[0][0], orig_im_size)\n",
    "\n",
    "# save result\n",
    "pil_im = Image.fromarray(result_image)\n",
    "no_bg_image = Image.new(\"RGBA\", pil_im.size, (0,0,0,0))\n",
    "orig_image = Image.open(image_path)\n",
    "no_bg_image.paste(orig_image, mask=pil_im)\n",
    "output_path = \"/Users/saddhat/Desktop/Comp_Vis/lab7/dog1_no_bg.png\"\n",
    "no_bg_image.save(output_path)\n",
    "\n",
    "print(f\"Image saved to {output_path}\")"
   ]
  }
 ],
 "metadata": {
  "kernelspec": {
   "display_name": "compvis",
   "language": "python",
   "name": "python3"
  },
  "language_info": {
   "codemirror_mode": {
    "name": "ipython",
    "version": 3
   },
   "file_extension": ".py",
   "mimetype": "text/x-python",
   "name": "python",
   "nbconvert_exporter": "python",
   "pygments_lexer": "ipython3",
   "version": "3.12.4"
  }
 },
 "nbformat": 4,
 "nbformat_minor": 2
}
