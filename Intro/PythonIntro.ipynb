{
 "cells": [
  {
   "cell_type": "markdown",
   "metadata": {
    "collapsed": true
   },
   "source": [
    "## Welcome to Jupyter Notebook\n",
    "Welcome to Jupyter Notebook, one of the many ways that you can use Python. Jupyter notebooks run lines of code in what are called **cells**. This makes it convenient to run certain lines of code and see the output of those lines of code in real time.\n",
    "To run a cell of code, simply press Shift + Enter."
   ]
  },
  {
   "cell_type": "markdown",
   "metadata": {},
   "source": [
    "### Python Functions\n",
    "Python is a dynamically typed language, meaning you don't have to declare the types of variables. These are determined at runtime.\n",
    "Also, Python uses spacing to determine scopes and groupings. For example, when you write a function, it will look like this:"
   ]
  },
  {
   "cell_type": "code",
   "execution_count": 80,
   "metadata": {},
   "outputs": [
    {
     "name": "stdout",
     "output_type": "stream",
     "text": [
      "Hello World\n"
     ]
    }
   ],
   "source": [
    "#Function definition\n",
    "def helloWorld():\n",
    "    print(\"Hello World\")\n",
    "\n",
    "#Calling the function\n",
    "helloWorld()\n"
   ]
  },
  {
   "cell_type": "markdown",
   "metadata": {},
   "source": [
    "Note that the **def** means we are defining a function. The colon is necessary for defining what is part of the function. Instead of using \"{\" and \"}\" like C++ or Java, everything that is part of the function needs to be spaced out separately (convention is 4 spaces or a tab). Incorrect spacing is a common reason for code not working properly."
   ]
  },
  {
   "cell_type": "markdown",
   "metadata": {
    "collapsed": true
   },
   "source": [
    "### Tuples\n",
    "One of Python's useful capabilities is its ability to pass and return tuples. For example, if you need to return two pieces of information from a function, you simply can name the two pieces of information and treat them as a tuple. Notice in the example below how perimeter and area can be returned at the same time."
   ]
  },
  {
   "cell_type": "code",
   "execution_count": 81,
   "metadata": {},
   "outputs": [
    {
     "name": "stdout",
     "output_type": "stream",
     "text": [
      "My perimeter is 40 and my area is 100 .\n"
     ]
    }
   ],
   "source": [
    "def rectangleInfo(width, height):\n",
    "    perimeter = 2*width + 2*height\n",
    "    area = width * height\n",
    "    return perimeter, area\n",
    "\n",
    "myPerimeter, myArea = rectangleInfo(10,10)\n",
    "print(\"My perimeter is\", myPerimeter, \"and my area is\", myArea, \".\")\n"
   ]
  },
  {
   "cell_type": "markdown",
   "metadata": {},
   "source": [
    "### Default Parameters\n",
    "Lastly, Python has a very simple default parameter value system. To state a default parameter, simply state what that parameter would be equal to if no parameter is given in the function description. Notice in the example below how startingNumber, stepSize, and numIters are all given default values if they are not specified in the function call."
   ]
  },
  {
   "cell_type": "code",
   "execution_count": 82,
   "metadata": {},
   "outputs": [
    {
     "name": "stdout",
     "output_type": "stream",
     "text": [
      "1,2,3,4,5,6,7,8,9,10\n",
      "2,4,6,8,10,12,14,16,18,20\n",
      "1,3,5,7,9,11,13,15,17,19\n"
     ]
    }
   ],
   "source": [
    "def countByNum(startingNumber=1,stepSize=1,numIters=10):\n",
    "    text = \"\"\n",
    "    count = startingNumber\n",
    "    for i in range(0,numIters):\n",
    "        text += str(count)\n",
    "        if i < numIters-1:\n",
    "            text += \",\"\n",
    "        count += stepSize\n",
    "    print(text)\n",
    "\n",
    "#The different ways to use default parameters \n",
    "countByNum()\n",
    "countByNum(2, 2)\n",
    "countByNum(stepSize=2)"
   ]
  },
  {
   "cell_type": "markdown",
   "metadata": {},
   "source": [
    "## Practice 1: General Fibonaci Sequence\n",
    "Write a function that takes in the number **n** (or *num*) and it returns the **(n-1)th** and **nth** Fibonacci numbers. Also, allow for the user to specify the **0th** and **1st** Fibonacci numbers that start off the sequence, but they should default to the standard ($n_0$=1 and $n_1$=1)."
   ]
  },
  {
   "cell_type": "code",
   "execution_count": 83,
   "metadata": {},
   "outputs": [],
   "source": [
    "#Your code here\n",
    "\n",
    "def fibonacci(num, n0 = 1, n1 = 1):\n",
    "    \n",
    "    #Base cases\n",
    "    if num == 0:\n",
    "        return n0, n0\n",
    "    elif num == 1:\n",
    "        return n0, n1\n",
    "\n",
    "    #Starting Numbers\n",
    "    prev = n0\n",
    "    curr = n1\n",
    "\n",
    "    #Iterate through the sequence\n",
    "    for i in range(2,num + 1):\n",
    "        next = prev + curr\n",
    "        prev = curr\n",
    "        curr = next\n",
    "\n",
    "    #Return (n-1) and n\n",
    "    return prev, curr\n",
    "\n",
    "\n",
    "\n"
   ]
  },
  {
   "cell_type": "markdown",
   "metadata": {},
   "source": [
    "To test that your code is working, try finding the $n_5$ and $n_6$ Fibonacci numbers for $n_0 = 2$ and $n_1 = 2$. You should get 16 and 26 because the sequence would be (2, 2, 4, 6, 10, 16, 26).\n",
    "The second print statement is how we will grade that you completed the task. **Do not delete any given test cases**."
   ]
  },
  {
   "cell_type": "code",
   "execution_count": 84,
   "metadata": {},
   "outputs": [
    {
     "name": "stdout",
     "output_type": "stream",
     "text": [
      "(16, 26)\n",
      "(55, 89)\n",
      "(196418, 317811)\n"
     ]
    }
   ],
   "source": [
    "#Test Cases\n",
    "print( fibonacci(6, 2, 2) )\n",
    "print( fibonacci(10) )\n",
    "print( fibonacci(24, 3, 5) )"
   ]
  },
  {
   "cell_type": "markdown",
   "metadata": {},
   "source": [
    "# -------------------------------------------------------"
   ]
  },
  {
   "cell_type": "markdown",
   "metadata": {},
   "source": [
    "### Data Structures - Lists\n",
    "Python has two primary types of data structures built in: lists and dictionaries. These data types are the most commonly used for Python methods and programming. Other types of data structures can be imported as needed. Let's start with lists."
   ]
  },
  {
   "cell_type": "code",
   "execution_count": 85,
   "metadata": {},
   "outputs": [
    {
     "name": "stdout",
     "output_type": "stream",
     "text": [
      "[10, 3, 4, 7]\n"
     ]
    }
   ],
   "source": [
    "myList = [] #Square brackets initialize a list\n",
    "\n",
    "#Add elements to the list\n",
    "myList.append(3)\n",
    "myList.append(4)\n",
    "myList.append(7)\n",
    "#Insert the number 10 at the 0th index\n",
    "myList.insert(0, 10)\n",
    "\n",
    "print(myList)"
   ]
  },
  {
   "cell_type": "code",
   "execution_count": 86,
   "metadata": {},
   "outputs": [
    {
     "name": "stdout",
     "output_type": "stream",
     "text": [
      "3\n",
      "7\n"
     ]
    }
   ],
   "source": [
    "#Accessing an element in a list\n",
    "print(myList[1])\n",
    "#Grab the last element in a list\n",
    "print(myList[-1])"
   ]
  },
  {
   "cell_type": "code",
   "execution_count": 87,
   "metadata": {},
   "outputs": [
    {
     "name": "stdout",
     "output_type": "stream",
     "text": [
      "[10, 3, 4, 7]\n",
      "[10, 3]\n"
     ]
    }
   ],
   "source": [
    "#Grab all elements in a list\n",
    "print(myList[:])\n",
    "#Grap a certain section of the list  \n",
    "print(myList[0:2])"
   ]
  },
  {
   "cell_type": "markdown",
   "metadata": {},
   "source": [
    "**Warning: Python excludes the last number in a range, as shown above. This is different from most common programming languages.** To see this, run the following code."
   ]
  },
  {
   "cell_type": "code",
   "execution_count": 88,
   "metadata": {},
   "outputs": [
    {
     "name": "stdout",
     "output_type": "stream",
     "text": [
      "[0, 1, 2, 3, 4, 5, 6, 7, 8, 9]\n"
     ]
    }
   ],
   "source": [
    "a = range(0,10)\n",
    "print(list(a))"
   ]
  },
  {
   "cell_type": "markdown",
   "metadata": {},
   "source": [
    "Going back to lists, Python has a very powerful list accessing system known as slice notation. It can be summarized as\n",
    "\n",
    "**[ first element to include : first element to exclude : step ]**\n",
    "\n",
    "Some common examples are given below."
   ]
  },
  {
   "cell_type": "code",
   "execution_count": 89,
   "metadata": {},
   "outputs": [
    {
     "name": "stdout",
     "output_type": "stream",
     "text": [
      "[0, 1, 2, 3, 4, 5, 6, 7, 8, 9]\n"
     ]
    }
   ],
   "source": [
    "myList2 = list(range(0,10))\n",
    "print(myList2)"
   ]
  },
  {
   "cell_type": "code",
   "execution_count": 90,
   "metadata": {},
   "outputs": [
    {
     "name": "stdout",
     "output_type": "stream",
     "text": [
      "[0, 2, 4, 6, 8]\n",
      "[0, 2, 4]\n",
      "[9, 8, 7, 6, 5, 4, 3, 2, 1, 0]\n"
     ]
    }
   ],
   "source": [
    "#Grab every other element in the list\n",
    "print(myList2[::2])\n",
    "\n",
    "#Grab every other element for the first 5 numbers\n",
    "print(myList2[0:5:2])\n",
    "\n",
    "#Reverse the list\n",
    "print(myList2[::-1])"
   ]
  },
  {
   "cell_type": "markdown",
   "metadata": {},
   "source": [
    "In Python, for loops are designed with lists in mind. You can see some examples below."
   ]
  },
  {
   "cell_type": "code",
   "execution_count": 91,
   "metadata": {},
   "outputs": [
    {
     "name": "stdout",
     "output_type": "stream",
     "text": [
      "46\n"
     ]
    }
   ],
   "source": [
    "myList3 = [1, 5, 8, 19, 7, 6]\n",
    "total = 0\n",
    "\n",
    "# You may be tempted to do this\n",
    "length = len(myList3)\n",
    "\n",
    "for i in range(0, length):\n",
    "    num = myList3[i]\n",
    "    total += num\n",
    "    \n",
    "print(total)"
   ]
  },
  {
   "cell_type": "markdown",
   "metadata": {},
   "source": [
    "The example above is a very Java-like way of doing list iteration, but there are better ways in Python. For example:"
   ]
  },
  {
   "cell_type": "code",
   "execution_count": 92,
   "metadata": {},
   "outputs": [
    {
     "name": "stdout",
     "output_type": "stream",
     "text": [
      "46\n"
     ]
    }
   ],
   "source": [
    "#It is much simpler to do this\n",
    "total = 0\n",
    "\n",
    "for num in myList3:\n",
    "    total += num\n",
    "\n",
    "print(total)"
   ]
  },
  {
   "cell_type": "markdown",
   "metadata": {},
   "source": [
    "Note that Python can give you elements of a list as the iterator through a for loop. This is very helpful in many problems.\n",
    "\n",
    "For more help with lists, you can visit https://docs.python.org/3/tutorial/datastructures.html"
   ]
  },
  {
   "cell_type": "markdown",
   "metadata": {},
   "source": [
    "## Practice 2: List Manipulation\n",
    "Write a function called listShift. This function should take the second half of a list, reverse it, and reappend it to the front of the list. For example,\n",
    "\n",
    "[1, 2, 3, 4, 5, 6, 7, 8, 9]  would become [9,8,7,6,1,2,3,4,5]\n",
    "\n",
    "As shown, odd number lists should not include the middle element in the reversed list.\n",
    "\n",
    "Hint: This is a lot easier if you don't use a for loop."
   ]
  },
  {
   "cell_type": "code",
   "execution_count": 93,
   "metadata": {},
   "outputs": [],
   "source": [
    "#Your code here\n",
    "def listShift(myList):\n",
    "    midpoint = len(myList) // 2\n",
    "\n",
    "    if len(myList) % 2 == 0:\n",
    "        first_half = myList[:midpoint]\n",
    "        second_half = myList[midpoint:]\n",
    "\n",
    "    else:\n",
    "        first_half = myList[:midpoint+1]\n",
    "        second_half = myList[midpoint+1:]\n",
    "\n",
    "    reverse_second_half = second_half[::-1]\n",
    "\n",
    "    result = reverse_second_half + first_half\n",
    "\n",
    "    return result"
   ]
  },
  {
   "cell_type": "code",
   "execution_count": 94,
   "metadata": {},
   "outputs": [
    {
     "name": "stdout",
     "output_type": "stream",
     "text": [
      "[9, 8, 7, 6, 1, 2, 3, 4, 5]\n",
      "[1, 2, 3, 4, 5, 6, 7, 8, 9, 10, 10, 9, 8, 7, 6, 5, 4, 3, 2, 1]\n"
     ]
    }
   ],
   "source": [
    "#Test Case\n",
    "print(listShift([1,2,3,4,5,6,7,8,9]))\n",
    "print(listShift([10,9,8,7,6,5,4,3,2,1,10,9,8,7,6,5,4,3,2,1]))"
   ]
  },
  {
   "cell_type": "markdown",
   "metadata": {},
   "source": [
    "# -----------------------------------------------------"
   ]
  },
  {
   "cell_type": "markdown",
   "metadata": {},
   "source": [
    "### Data Structures - Dictionaries\n",
    "We won't be using dictionaries as much in this class, but it would be an injustice if you didn't get some exposure to them. They are one of the most powerful constructs in Python. The dictionary data structure is also sometimes known as a map data structure in other languages."
   ]
  },
  {
   "cell_type": "code",
   "execution_count": 95,
   "metadata": {},
   "outputs": [
    {
     "name": "stdout",
     "output_type": "stream",
     "text": [
      "{'University': 'ECU', 'City': 'Greenville'}\n"
     ]
    }
   ],
   "source": [
    "myDictionary = {} #Curly brackets initialize a dictionary\n",
    "\n",
    "#Add elements to dictionary using key/value system\n",
    "myDictionary[\"University\"] = \"ECU\"\n",
    "myDictionary[\"City\"] = \"Greenville\"\n",
    "\n",
    "print(myDictionary)"
   ]
  },
  {
   "cell_type": "code",
   "execution_count": 96,
   "metadata": {},
   "outputs": [
    {
     "name": "stdout",
     "output_type": "stream",
     "text": [
      "{'Name': 'Zara', 'Age': 7, 'Grade': '1'}\n",
      "Zara\n",
      "7\n",
      "1\n",
      "{'Name': 'Zara', 'Age': 7}\n",
      "{}\n"
     ]
    }
   ],
   "source": [
    "#Another way to instatiate a dictionary\n",
    "myDictionary2 = {'Name': 'Zara', 'Age': 7, 'Grade': '1'}\n",
    "print(myDictionary2)\n",
    "\n",
    "#Go through data in a dictionary\n",
    "for key in myDictionary2:\n",
    "    print(myDictionary2[key])\n",
    "\n",
    "#Remove data\n",
    "del myDictionary2[\"Grade\"]\n",
    "print(myDictionary2)\n",
    "\n",
    "myDictionary2.clear()\n",
    "print(myDictionary2)"
   ]
  },
  {
   "cell_type": "markdown",
   "metadata": {},
   "source": [
    "### Python Classes\n",
    "Python can use object-oriented programming through the use of classes like most languages. However, the syntax for classes is very unique to Python.\n",
    "\n",
    "Below is an example of a class in Python."
   ]
  },
  {
   "cell_type": "code",
   "execution_count": 97,
   "metadata": {},
   "outputs": [
    {
     "name": "stdout",
     "output_type": "stream",
     "text": [
      "157.07963267948966\n",
      "1963.4954084936207\n",
      "37.5\n"
     ]
    }
   ],
   "source": [
    "from math import pi\n",
    "\n",
    "class Circle():\n",
    "    \n",
    "    def __init__(self, radius, center_x=0.0, center_y=0.0):\n",
    "        self.radius = radius\n",
    "        self.x = center_x\n",
    "        self.y = center_y\n",
    "        \n",
    "    def getCircumference(self):\n",
    "        return 2*pi*self.radius\n",
    "    \n",
    "    def getArea(self):\n",
    "        return pi*self.radius**2\n",
    "    \n",
    "    def getArc(self, angle):\n",
    "        return self.radius * angle\n",
    "    \n",
    "myCirc = Circle(25)\n",
    "print(myCirc.getCircumference())\n",
    "print(myCirc.getArea())\n",
    "print(myCirc.getArc(1.5))"
   ]
  },
  {
   "cell_type": "markdown",
   "metadata": {},
   "source": [
    "Note the keyword **class** is used to start the definition. The constructor for the class is always defined within the **__init__** function. Any other functions can be named as needed.\n",
    "\n",
    "Also, note that the keyword **self** must be passed into each function. This is where the variables for the class are stored. You can think of it similar to the **this** keyword in Java. However, note that this variable does not need to be passed in on call, only definition."
   ]
  },
  {
   "cell_type": "markdown",
   "metadata": {},
   "source": [
    "### Inheritance\n",
    "Classes can also inherit methods and properties from other classes. This can be done by placing the name of the super class in the parenthesis of the class defintion. These super classes can also have abstract methods by using the keyword **pass**."
   ]
  },
  {
   "cell_type": "code",
   "execution_count": 98,
   "metadata": {},
   "outputs": [
    {
     "name": "stdout",
     "output_type": "stream",
     "text": [
      "40\n"
     ]
    }
   ],
   "source": [
    "class Shape():\n",
    "    \n",
    "    def getPerimeter(self):\n",
    "        pass\n",
    "    \n",
    "    def getArea(self):\n",
    "        pass\n",
    "    \n",
    "class Square(Shape):\n",
    "    \n",
    "    def __init__(self, size):\n",
    "        self.size = size\n",
    "    \n",
    "    def getPerimeter(self):\n",
    "        return 4*self.size\n",
    "    \n",
    "    def getArea(self):\n",
    "        return self.size**2\n",
    "    \n",
    "    \n",
    "mySquare = Square(10)\n",
    "if isinstance(mySquare, Shape):\n",
    "    print(mySquare.getPerimeter())"
   ]
  },
  {
   "cell_type": "markdown",
   "metadata": {},
   "source": [
    "For more information on classes in Python, see https://docs.python.org/3/tutorial/classes.html"
   ]
  },
  {
   "cell_type": "markdown",
   "metadata": {},
   "source": [
    "## Practice 3: Push and Pop\n",
    "Write your own class called MyPriorityQueue. This class should have two methods: **push** and **pop**. Push takes in a value and priority number and puts it in a dictionary. Pop returns the value with highest priority number and removes that value from the dictionary. "
   ]
  },
  {
   "cell_type": "code",
   "execution_count": 99,
   "metadata": {},
   "outputs": [],
   "source": [
    "class MyPriorityQueue():\n",
    "    def __init__(self):\n",
    "        self.queue ={}\n",
    "    \n",
    "    def push (self, value, priority):\n",
    "        if priority not in self.queue:\n",
    "            self.queue[priority] = []\n",
    "        self.queue[priority].append(value)\n",
    "\n",
    "    def pop(self):\n",
    "        if not self.queue:\n",
    "            raise IndexError(\"Queue is empty\")\n",
    "        \n",
    "        highest_priority = max(self.queue.keys())\n",
    "\n",
    "        value = self.queue[highest_priority].pop()\n",
    "\n",
    "        if not self.queue[highest_priority]:\n",
    "            del self.queue[highest_priority]\n",
    "\n",
    "        return value"
   ]
  },
  {
   "cell_type": "code",
   "execution_count": 100,
   "metadata": {},
   "outputs": [
    {
     "name": "stdout",
     "output_type": "stream",
     "text": [
      "The heights by great men reached and kept\n",
      "were not attained by sudden flight,\n",
      "but they, while their companions slept,\n",
      "were toiling upward in the night.\n",
      "-Longfellow\n"
     ]
    }
   ],
   "source": [
    "#Test Case\n",
    "myQueue = MyPriorityQueue()\n",
    "myQueue.push(\"were toiling upward in the night.\", 2)\n",
    "myQueue.push(\"The heights by great men reached and kept\", 5)\n",
    "myQueue.push(\"-Longfellow\", 1)\n",
    "myQueue.push(\"were not attained by sudden flight,\", 4)\n",
    "myQueue.push(\"but they, while their companions slept,\", 3)\n",
    "print(myQueue.pop())\n",
    "print(myQueue.pop())\n",
    "print(myQueue.pop())\n",
    "print(myQueue.pop())\n",
    "print(myQueue.pop())"
   ]
  },
  {
   "cell_type": "markdown",
   "metadata": {},
   "source": [
    "# -----------------------------------------------------"
   ]
  },
  {
   "cell_type": "markdown",
   "metadata": {},
   "source": [
    "### Importing Packages in Python\n",
    "Python has multiple ways to import packages to use in the system. The keywords you can use are **import**, **from**, and **as**."
   ]
  },
  {
   "cell_type": "code",
   "execution_count": 101,
   "metadata": {},
   "outputs": [
    {
     "name": "stdout",
     "output_type": "stream",
     "text": [
      "3.141592653589793\n",
      "3.141592653589793\n",
      "3.141592653589793\n",
      "2.718281828459045\n"
     ]
    }
   ],
   "source": [
    "import math\n",
    "print(math.pi)\n",
    "\n",
    "from math import pi\n",
    "print(pi)\n",
    "\n",
    "from math import pi as taco\n",
    "print(taco)\n",
    "\n",
    "from math import * #Import everything from the package\n",
    "print(e)"
   ]
  },
  {
   "cell_type": "markdown",
   "metadata": {},
   "source": [
    "One of the main packages we will use is called Numpy. It is a huge matrix processing library that is very helpful for image processing and graphics. The conventional import method looks like this."
   ]
  },
  {
   "cell_type": "code",
   "execution_count": 102,
   "metadata": {},
   "outputs": [
    {
     "name": "stdout",
     "output_type": "stream",
     "text": [
      "1.24.4\n"
     ]
    }
   ],
   "source": [
    "import numpy as np\n",
    "print(np.version.version)"
   ]
  },
  {
   "cell_type": "markdown",
   "metadata": {},
   "source": [
    "Make sure that you have at least version 1.08 running. If you can't get the package to work, make sure that you run *pip install numpy* or *conda install numpy* in the command line according to the setup instructions.\n",
    "\n",
    "Numpy allows you store matrices natively and do matrix operations in a single step.\n",
    "\n",
    "Let's look at a simple matrix."
   ]
  },
  {
   "cell_type": "code",
   "execution_count": 103,
   "metadata": {},
   "outputs": [
    {
     "name": "stdout",
     "output_type": "stream",
     "text": [
      "[[1 2]\n",
      " [3 4]]\n"
     ]
    }
   ],
   "source": [
    "import numpy as np\n",
    "a = np.matrix([[1, 2],[3,4]])\n",
    "\n",
    "print(a)"
   ]
  },
  {
   "cell_type": "code",
   "execution_count": 104,
   "metadata": {},
   "outputs": [
    {
     "name": "stdout",
     "output_type": "stream",
     "text": [
      "2\n"
     ]
    }
   ],
   "source": [
    "print(a[0,1]) #Row, Column zero-based indexing"
   ]
  },
  {
   "cell_type": "code",
   "execution_count": 105,
   "metadata": {},
   "outputs": [
    {
     "name": "stdout",
     "output_type": "stream",
     "text": [
      "[[2]\n",
      " [4]]\n",
      "\n",
      "[[1 2]]\n"
     ]
    }
   ],
   "source": [
    "print(a[:,1]) #Grab all rows and the second column\n",
    "print()\n",
    "print(a[0,:]) #Grab everything in the first row"
   ]
  },
  {
   "cell_type": "markdown",
   "metadata": {},
   "source": [
    "Note that all splice notation works with Numpy arrays.\n",
    "\n",
    "You can also do operations on all elements of a Numpy array at the same time. This is shown below and is called vectorization."
   ]
  },
  {
   "cell_type": "code",
   "execution_count": 106,
   "metadata": {},
   "outputs": [
    {
     "name": "stdout",
     "output_type": "stream",
     "text": [
      "[[2 3]\n",
      " [4 5]]\n",
      "\n",
      "[[ 3  6]\n",
      " [ 9 12]]\n"
     ]
    }
   ],
   "source": [
    "print(a + 1)\n",
    "print()\n",
    "print(3*a)"
   ]
  },
  {
   "cell_type": "code",
   "execution_count": 107,
   "metadata": {},
   "outputs": [
    {
     "name": "stdout",
     "output_type": "stream",
     "text": [
      "[[ 1  4]\n",
      " [ 9 16]]\n",
      "\n",
      "[[ 7 10]\n",
      " [15 22]]\n"
     ]
    }
   ],
   "source": [
    "print(np.multiply(a,a)) #Element-wise multiply\n",
    "print()\n",
    "print(np.matmul(a,a)) #True matrix multiply"
   ]
  },
  {
   "cell_type": "markdown",
   "metadata": {},
   "source": [
    "There are plenty of Numpy operations that we are not covering, but we will see more of these as we go throughout the class. For more details, go to https://docs.scipy.org/doc/numpy/reference/ ."
   ]
  }
 ],
 "metadata": {
  "kernelspec": {
   "display_name": "Python 3",
   "language": "python",
   "name": "python3"
  },
  "language_info": {
   "codemirror_mode": {
    "name": "ipython",
    "version": 3
   },
   "file_extension": ".py",
   "mimetype": "text/x-python",
   "name": "python",
   "nbconvert_exporter": "python",
   "pygments_lexer": "ipython3",
   "version": "3.8.9"
  },
  "polyglot_notebook": {
   "kernelInfo": {
    "defaultKernelName": "csharp",
    "items": [
     {
      "aliases": [],
      "name": "csharp"
     }
    ]
   }
  }
 },
 "nbformat": 4,
 "nbformat_minor": 2
}
